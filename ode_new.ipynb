{
  "nbformat": 4,
  "nbformat_minor": 0,
  "metadata": {
    "colab": {
      "name": "ode_new.ipynb",
      "private_outputs": true,
      "provenance": [],
      "authorship_tag": "ABX9TyM/C+Hr9w6Pnq41vDlOIeN0",
      "include_colab_link": true
    },
    "kernelspec": {
      "name": "python3",
      "display_name": "Python 3"
    },
    "language_info": {
      "name": "python"
    },
    "accelerator": "GPU"
  },
  "cells": [
    {
      "cell_type": "markdown",
      "metadata": {
        "id": "view-in-github",
        "colab_type": "text"
      },
      "source": [
        "<a href=\"https://colab.research.google.com/github/tayfununal/Normalizing-Flows/blob/main/ode_new.ipynb\" target=\"_parent\"><img src=\"https://colab.research.google.com/assets/colab-badge.svg\" alt=\"Open In Colab\"/></a>"
      ]
    },
    {
      "cell_type": "code",
      "execution_count": null,
      "metadata": {
        "id": "PcRYChEL98wZ"
      },
      "outputs": [],
      "source": [
        "import matplotlib.pyplot as plt\n",
        "import numpy as np\n",
        "from scipy.integrate import solve_ivp\n",
        "\n",
        "plt.style.use('seaborn-poster')\n",
        "\n",
        "%matplotlib inline\n",
        "\n",
        "def F(t,s):       # Diff eq F(t,s) = 0\n",
        "  return [np.cos(t), -np.sin(t)]\n",
        "\n",
        "t_eval = np.arange(0, 2*np.pi, 0.01)\n",
        "sol = solve_ivp(F, [0, 2*np.pi], [0., 1.], t_eval=t_eval, dense_output=True)\n",
        "\n",
        "\n",
        "plt.figure(figsize = (12, 6))\n",
        "\n",
        "plt.subplot(221)\n",
        "plt.plot(sol.t, sol.y[0])\n",
        "plt.xlabel('t')\n",
        "plt.ylabel('H[0] = sin(t)')\n",
        "\n",
        "plt.subplot(222)\n",
        "plt.plot(sol.t, sol.y[0] - np.sin(sol.t))\n",
        "plt.xlabel('t')\n",
        "plt.ylabel('H[0] - sin(t)')\n",
        "\n",
        "plt.subplot(223)\n",
        "plt.plot(sol.t, sol.y[1])\n",
        "plt.xlabel('t')\n",
        "plt.ylabel('H[1] = cos(t)')\n",
        "\n",
        "plt.subplot(224)\n",
        "plt.plot(sol.t, sol.y[1] - np.cos(sol.t))\n",
        "plt.xlabel('t')\n",
        "plt.ylabel('H[1] - cos(t)')\n",
        "\n",
        "plt.tight_layout()\n",
        "plt.show()"
      ]
    },
    {
      "cell_type": "code",
      "source": [
        "plt.figure(figsize = (12, 8))\n",
        "plt.plot(sol.y.T[:, 0], sol.y.T[:, 1])\n",
        "plt.xlabel('q')\n",
        "plt.ylabel('p')\n",
        "plt.show()"
      ],
      "metadata": {
        "id": "gBsZmmCg-D_E"
      },
      "execution_count": null,
      "outputs": []
    },
    {
      "cell_type": "code",
      "source": [
        "import tensorflow as tf\n",
        "from tensorflow.keras.models import Sequential\n",
        "from tensorflow.keras import Input, Model\n",
        "from tensorflow.keras.layers import Dense"
      ],
      "metadata": {
        "id": "xKzh6t_H-MZX"
      },
      "execution_count": null,
      "outputs": []
    },
    {
      "cell_type": "code",
      "source": [
        "y = sol.y.T # etiketlerimiz\n",
        "y.shape # (q,p)"
      ],
      "metadata": {
        "id": "LsjmPxBi-PkC"
      },
      "execution_count": null,
      "outputs": []
    },
    {
      "cell_type": "code",
      "source": [
        "t = sol.t\n",
        "t.shape"
      ],
      "metadata": {
        "id": "kbsT_UId-TtK"
      },
      "execution_count": null,
      "outputs": []
    },
    {
      "cell_type": "code",
      "source": [
        "t = t.reshape(([t.shape[0],1]))\n",
        "shuffle = np.concatenate((y,t), axis=1)\n",
        "np.random.shuffle(shuffle)\n",
        "shuffle"
      ],
      "metadata": {
        "id": "vxJcAWHh-Y8C"
      },
      "execution_count": null,
      "outputs": []
    },
    {
      "cell_type": "code",
      "source": [
        "y = shuffle[:,:2]\n",
        "t = shuffle[:,2]\n",
        "print('y:',y, '\\nt:',t)"
      ],
      "metadata": {
        "id": "saMJDAxZ-bMN"
      },
      "execution_count": null,
      "outputs": []
    },
    {
      "cell_type": "code",
      "source": [
        "from tensorflow import keras\n",
        "import tensorflow as tf\n",
        "\n",
        "class ChildDense(keras.layers.Layer):\n",
        "  \n",
        "  def __init__(self, units, activation=None):\n",
        "    super().__init__()\n",
        "    self.units = units\n",
        "    self.activation = activation\n",
        "    \n",
        "  def call(self, inputs):\n",
        "    y = tf.constant([[0,1]]) + f(t) * inputs\n",
        "    if self.activation is not None:\n",
        "      y = self.activation(y)\n",
        "    return y\n",
        "\n",
        "  def f(t):\n",
        "    return 1 - tf.math.exp(-t**2)"
      ],
      "metadata": {
        "id": "dQvHsa_NX0mF"
      },
      "execution_count": null,
      "outputs": []
    },
    {
      "cell_type": "code",
      "source": [
        "\"\"\"tf.random.set_seed(39)\n",
        "np.random.seed(39)\"\"\"\n",
        "girdi = Input(shape=(1,))\n",
        "\n",
        "hidden = Dense(512, activation= 'tanh')(girdi)\n",
        "hidden = Dense(512, activation= 'tanh')(hidden)\n",
        "hidden = Dense(2)(hidden)\n",
        "\n",
        "\n",
        "model = Model(inputs=girdi, outputs=hidden)"
      ],
      "metadata": {
        "id": "rzUMIxAY-bQr"
      },
      "execution_count": null,
      "outputs": []
    },
    {
      "cell_type": "code",
      "source": [
        "from tensorflow.python.framework import dtypes\n",
        "import keras.backend as K\n",
        "\n",
        "def custom_loss_wrapper(girdi):\n",
        "  def custom_loss(y_true, y_pred):\n",
        "      j = tf.shape(y_pred)\n",
        "      print(j)\n",
        "      #print(K.print_tensor(girdi[:j]))\n",
        "\n",
        "      #(tf.constant([[1.]]) - tf.math.multiply(tf.reshape(tf.cast(tf.math.exp(-girdi),dtype=tf.float32),(629,1)), y_pred))\n",
        "      return tf.reduce_sum((y_true - y_pred)**2)\n",
        "  return custom_loss"
      ],
      "metadata": {
        "id": "g27vn5J4cLdc"
      },
      "execution_count": null,
      "outputs": []
    },
    {
      "cell_type": "code",
      "source": [
        "model.summary()"
      ],
      "metadata": {
        "id": "KodRx5JoV5P9"
      },
      "execution_count": null,
      "outputs": []
    },
    {
      "cell_type": "code",
      "source": [
        "\"\"\"import keras.backend as K\n",
        "def custom_loss(y_true, y_pred):\n",
        "\n",
        "    #y_true = K.print_tensor(y_true, message='y_true = ')\n",
        "    #y_pred = K.print_tensor(y_pred, message='y_pred = ')\n",
        "\n",
        "    y_true = tf.reduce_sum((y_true**2)/2)\n",
        "    y_pred = tf.reduce_sum((y_pred**2)/2)\n",
        "\n",
        "    loss = (y_true - y_pred)**2\n",
        "\n",
        "    return loss\n",
        "\"\"\""
      ],
      "metadata": {
        "id": "wy6P5L8N-bTS"
      },
      "execution_count": null,
      "outputs": []
    },
    {
      "cell_type": "code",
      "source": [
        "adam = tf.keras.optimizers.Adam(learning_rate=0.1)\n",
        "model.compile(optimizer='adam', loss=custom_loss_wrapper(t))"
      ],
      "metadata": {
        "id": "qGCfobRE-piI"
      },
      "execution_count": null,
      "outputs": []
    },
    {
      "cell_type": "code",
      "source": [
        "model.fit(x=t, y= y, epochs=1, batch_size=32)"
      ],
      "metadata": {
        "id": "vsBJ7s66-bVy"
      },
      "execution_count": null,
      "outputs": []
    },
    {
      "cell_type": "code",
      "source": [
        "t_deneme = np.arange(0, 2*np.pi, 0.02).reshape((315,1))\n",
        "pred = model.predict(t_deneme)"
      ],
      "metadata": {
        "id": "5Xy9RDpf-wUn"
      },
      "execution_count": null,
      "outputs": []
    },
    {
      "cell_type": "code",
      "source": [
        "plt.figure(figsize = (12, 8))\n",
        "plt.plot(pred[:, 0], pred[:, 1])\n",
        "plt.plot(sol.y.T[:, 0], sol.y.T[:, 1])\n",
        "plt.xlabel('q')\n",
        "plt.ylabel('p')\n",
        "plt.show()"
      ],
      "metadata": {
        "id": "sYkMA0nL-wW_"
      },
      "execution_count": null,
      "outputs": []
    },
    {
      "cell_type": "code",
      "source": [
        "a = np.array([[1,2,3,4,5]]).T* np.ones((5,2))\n",
        "a"
      ],
      "metadata": {
        "id": "B7XzKFQNdoCt"
      },
      "execution_count": null,
      "outputs": []
    },
    {
      "cell_type": "code",
      "source": [
        "a [2:4]"
      ],
      "metadata": {
        "id": "wO-YEOJFB8-6"
      },
      "execution_count": null,
      "outputs": []
    },
    {
      "cell_type": "code",
      "source": [
        ""
      ],
      "metadata": {
        "id": "i3EcXydvCJmc"
      },
      "execution_count": null,
      "outputs": []
    }
  ]
}