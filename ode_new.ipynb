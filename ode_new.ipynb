{
  "nbformat": 4,
  "nbformat_minor": 0,
  "metadata": {
    "colab": {
      "name": "ode_new.ipynb",
      "private_outputs": true,
      "provenance": [],
      "authorship_tag": "ABX9TyMyuN9/7MxhjtxmtAdk5e2f",
      "include_colab_link": true
    },
    "kernelspec": {
      "name": "python3",
      "display_name": "Python 3"
    },
    "language_info": {
      "name": "python"
    }
  },
  "cells": [
    {
      "cell_type": "markdown",
      "metadata": {
        "id": "view-in-github",
        "colab_type": "text"
      },
      "source": [
        "<a href=\"https://colab.research.google.com/github/tayfununal/Normalizing-Flows/blob/main/ode_new.ipynb\" target=\"_parent\"><img src=\"https://colab.research.google.com/assets/colab-badge.svg\" alt=\"Open In Colab\"/></a>"
      ]
    },
    {
      "cell_type": "code",
      "execution_count": null,
      "metadata": {
        "id": "PcRYChEL98wZ"
      },
      "outputs": [],
      "source": [
        "import matplotlib.pyplot as plt\n",
        "import numpy as np\n",
        "from scipy.integrate import solve_ivp\n",
        "\n",
        "plt.style.use('seaborn-poster')\n",
        "\n",
        "%matplotlib inline\n",
        "\n",
        "def F(t,s):\n",
        "  return [np.cos(t), -np.sin(t)]\n",
        "\n",
        "t_eval = np.arange(0, 2*np.pi, 0.01)\n",
        "sol = solve_ivp(F, [0, 2*np.pi], [0., 1.], t_eval=t_eval, dense_output=True)\n",
        "\n",
        "\n",
        "plt.figure(figsize = (12, 6))\n",
        "\n",
        "plt.subplot(221)\n",
        "plt.plot(sol.t, sol.y[0])\n",
        "plt.xlabel('t')\n",
        "plt.ylabel('H[0] = sin(t)')\n",
        "\n",
        "plt.subplot(222)\n",
        "plt.plot(sol.t, sol.y[0] - np.sin(sol.t))\n",
        "plt.xlabel('t')\n",
        "plt.ylabel('H[0] - sin(t)')\n",
        "\n",
        "plt.subplot(223)\n",
        "plt.plot(sol.t, sol.y[1])\n",
        "plt.xlabel('t')\n",
        "plt.ylabel('H[1] = cos(t)')\n",
        "\n",
        "plt.subplot(224)\n",
        "plt.plot(sol.t, sol.y[1] - np.cos(sol.t))\n",
        "plt.xlabel('t')\n",
        "plt.ylabel('H[1] - cos(t)')\n",
        "\n",
        "plt.tight_layout()\n",
        "plt.show()"
      ]
    },
    {
      "cell_type": "code",
      "source": [
        "plt.figure(figsize = (12, 8))\n",
        "plt.plot(sol.y.T[:, 0], sol.y.T[:, 1])\n",
        "plt.xlabel('q')\n",
        "plt.ylabel('p')\n",
        "plt.show()"
      ],
      "metadata": {
        "id": "gBsZmmCg-D_E"
      },
      "execution_count": null,
      "outputs": []
    },
    {
      "cell_type": "code",
      "source": [
        "import tensorflow as tf\n",
        "from tensorflow.keras.models import Sequential\n",
        "from tensorflow.keras import Input, Model\n",
        "from tensorflow.keras.layers import Dense"
      ],
      "metadata": {
        "id": "xKzh6t_H-MZX"
      },
      "execution_count": null,
      "outputs": []
    },
    {
      "cell_type": "code",
      "source": [
        "y = sol.y.T\n",
        "y.shape # (q,p)"
      ],
      "metadata": {
        "id": "LsjmPxBi-PkC"
      },
      "execution_count": null,
      "outputs": []
    },
    {
      "cell_type": "code",
      "source": [
        "t = sol.t\n",
        "t.shape"
      ],
      "metadata": {
        "id": "kbsT_UId-TtK"
      },
      "execution_count": null,
      "outputs": []
    },
    {
      "cell_type": "code",
      "source": [
        "t = t.reshape(([t.shape[0],1]))\n",
        "shuffle = np.concatenate((y,t), axis=1)\n",
        "np.random.shuffle(shuffle)\n",
        "shuffle"
      ],
      "metadata": {
        "id": "vxJcAWHh-Y8C"
      },
      "execution_count": null,
      "outputs": []
    },
    {
      "cell_type": "code",
      "source": [
        "y = shuffle[:,:2]\n",
        "t = shuffle[:,2]\n",
        "print('y:',y, '\\nt:',t)"
      ],
      "metadata": {
        "id": "saMJDAxZ-bMN"
      },
      "execution_count": null,
      "outputs": []
    },
    {
      "cell_type": "code",
      "source": [
        "girdi = Input(shape=(1,))\n",
        "\n",
        "hidden = Dense(512, activation= 'tanh')(girdi)\n",
        "hidden = Dense(512, activation= 'tanh')(hidden)\n",
        "hidden = Dense(2,)\n",
        "hidden = Euler_ty(hidden, girdi)\n"
      ],
      "metadata": {
        "id": "rzUMIxAY-bQr"
      },
      "execution_count": null,
      "outputs": []
    },
    {
      "cell_type": "code",
      "source": [
        "import keras.backend as K\n",
        "def custom_loss(y_true, y_pred):\n",
        "\n",
        "    #y_true = K.print_tensor(y_true, message='y_true = ')\n",
        "    #y_pred = K.print_tensor(y_pred, message='y_pred = ')\n",
        "    \n",
        "    # calculate loss, using y_pred\n",
        "    #y_true = np.array([[1/2],[0]]).reshape((1,2))      # H(q,p) = q^2/2 + p^2/2   , q(t=0)=cos(0)=1, p(t=0)=sin(0)=0 \n",
        "    #y_pred = tf.matmul(tf.cast(y_pred, tf.float64), tf.convert_to_tensor(np.array([[0., 1.],[-1., 0.]], dtype='float64')))\n",
        "\n",
        "    y_true = tf.reduce_sum((y_true**2)/2)\n",
        "    y_pred = tf.reduce_sum((y_pred**2)/2)\n",
        "\n",
        "    loss = (y_true - y_pred)**2\n",
        "\n",
        "    return loss"
      ],
      "metadata": {
        "id": "wy6P5L8N-bTS"
      },
      "execution_count": null,
      "outputs": []
    },
    {
      "cell_type": "code",
      "source": [
        "class Euler_ty(tf.keras.layers.Layer):\n",
        "    def __init__(self):\n",
        "        super(Euler_ty, self).__init__()\n",
        "\n",
        "    def call(self, y_pred, girdi):\n",
        "      t = K.print_tensor(t, message='x = ')\n",
        "      print(t)\n",
        "      z = tf.constant([[0.,1.]]) + f(t)* y_pred\n",
        "      return z\n",
        "\n",
        "def f(t):\n",
        "\n",
        "  y = 1 - tf.math.exp(-t**2)\n",
        "  return t\n",
        "    "
      ],
      "metadata": {
        "id": "gf9Qvtyh_ave"
      },
      "execution_count": null,
      "outputs": []
    },
    {
      "cell_type": "code",
      "source": [
        "adam = tf.keras.optimizers.Adam(learning_rate=0.01)\n",
        "model.compile(optimizer='adam', loss=custom_loss)"
      ],
      "metadata": {
        "id": "qGCfobRE-piI"
      },
      "execution_count": null,
      "outputs": []
    },
    {
      "cell_type": "code",
      "source": [
        "model.fit(x=t, y= y, epochs=25, batch_size=16)"
      ],
      "metadata": {
        "id": "vsBJ7s66-bVy"
      },
      "execution_count": null,
      "outputs": []
    },
    {
      "cell_type": "code",
      "source": [
        "t_deneme = np.arange(0, 2*np.pi, 0.02).reshape((315,1))\n",
        "pred = model.predict(t_deneme)"
      ],
      "metadata": {
        "id": "5Xy9RDpf-wUn"
      },
      "execution_count": null,
      "outputs": []
    },
    {
      "cell_type": "code",
      "source": [
        "plt.figure(figsize = (12, 8))\n",
        "plt.plot(pred[:, 0], pred[:, 1])\n",
        "plt.xlabel('q')\n",
        "plt.ylabel('p')\n",
        "plt.show()"
      ],
      "metadata": {
        "id": "sYkMA0nL-wW_"
      },
      "execution_count": null,
      "outputs": []
    },
    {
      "cell_type": "code",
      "source": [
        "tf.constant([[0.,1.]])"
      ],
      "metadata": {
        "id": "cI_AmNb9BMpN"
      },
      "execution_count": null,
      "outputs": []
    },
    {
      "cell_type": "code",
      "source": [
        ""
      ],
      "metadata": {
        "id": "bTV4xWWlBPZs"
      },
      "execution_count": null,
      "outputs": []
    }
  ]
}