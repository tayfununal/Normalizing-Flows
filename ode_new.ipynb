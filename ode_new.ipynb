{
  "nbformat": 4,
  "nbformat_minor": 0,
  "metadata": {
    "colab": {
      "name": "ode_new.ipynb",
      "private_outputs": true,
      "provenance": [],
      "authorship_tag": "ABX9TyMbmYpACdlxopPdJdJXc2tt",
      "include_colab_link": true
    },
    "kernelspec": {
      "name": "python3",
      "display_name": "Python 3"
    },
    "language_info": {
      "name": "python"
    },
    "accelerator": "GPU"
  },
  "cells": [
    {
      "cell_type": "markdown",
      "metadata": {
        "id": "view-in-github",
        "colab_type": "text"
      },
      "source": [
        "<a href=\"https://colab.research.google.com/github/tayfununal/Normalizing-Flows/blob/main/ode_new.ipynb\" target=\"_parent\"><img src=\"https://colab.research.google.com/assets/colab-badge.svg\" alt=\"Open In Colab\"/></a>"
      ]
    },
    {
      "cell_type": "code",
      "execution_count": null,
      "metadata": {
        "id": "PcRYChEL98wZ"
      },
      "outputs": [],
      "source": [
        "import matplotlib.pyplot as plt\n",
        "import numpy as np\n",
        "from scipy.integrate import solve_ivp\n",
        "\n",
        "plt.style.use('seaborn-poster')\n",
        "\n",
        "%matplotlib inline\n",
        "\n",
        "def F(t,s):       # Diff eq F(t,s) = 0\n",
        "  return [np.cos(t), -np.sin(t)]\n",
        "\n",
        "t_eval = np.arange(0, 4*np.pi, 0.01)\n",
        "sol = solve_ivp(F, [0, 4*np.pi], [0., 1.], t_eval=t_eval, dense_output=True)\n",
        "\n",
        "\n",
        "plt.figure(figsize = (12, 6))\n",
        "\n",
        "plt.subplot(221)\n",
        "plt.plot(sol.t, sol.y[0])\n",
        "plt.xlabel('t')\n",
        "plt.ylabel('H[0] = sin(t)')\n",
        "\n",
        "plt.subplot(222)\n",
        "plt.plot(sol.t, sol.y[0] - np.sin(sol.t))\n",
        "plt.xlabel('t')\n",
        "plt.ylabel('H[0] - sin(t)')\n",
        "\n",
        "plt.subplot(223)\n",
        "plt.plot(sol.t, sol.y[1])\n",
        "plt.xlabel('t')\n",
        "plt.ylabel('H[1] = cos(t)')\n",
        "\n",
        "plt.subplot(224)\n",
        "plt.plot(sol.t, sol.y[1] - np.cos(sol.t))\n",
        "plt.xlabel('t')\n",
        "plt.ylabel('H[1] - cos(t)')\n",
        "\n",
        "plt.tight_layout()\n",
        "plt.show()"
      ]
    },
    {
      "cell_type": "code",
      "source": [
        "plt.figure(figsize = (12, 8))\n",
        "plt.plot(sol.y.T[:, 0], sol.y.T[:, 1])\n",
        "plt.xlabel('q')\n",
        "plt.ylabel('p')\n",
        "plt.show()"
      ],
      "metadata": {
        "id": "gBsZmmCg-D_E"
      },
      "execution_count": null,
      "outputs": []
    },
    {
      "cell_type": "code",
      "source": [
        "import tensorflow as tf\n",
        "from tensorflow.keras.models import Sequential\n",
        "from tensorflow.keras import Input, Model\n",
        "from tensorflow.keras.layers import Dense"
      ],
      "metadata": {
        "id": "xKzh6t_H-MZX"
      },
      "execution_count": null,
      "outputs": []
    },
    {
      "cell_type": "code",
      "source": [
        "y = sol.y.T # etiketlerimiz\n",
        "y.shape # (q,p)"
      ],
      "metadata": {
        "id": "LsjmPxBi-PkC"
      },
      "execution_count": null,
      "outputs": []
    },
    {
      "cell_type": "code",
      "source": [
        "t = sol.t\n",
        "t.shape"
      ],
      "metadata": {
        "id": "kbsT_UId-TtK"
      },
      "execution_count": null,
      "outputs": []
    },
    {
      "cell_type": "code",
      "source": [
        "t = t.reshape(([t.shape[0],1]))\n",
        "shuffle = np.concatenate((y,t), axis=1)\n",
        "np.random.shuffle(shuffle)\n",
        "shuffle"
      ],
      "metadata": {
        "id": "vxJcAWHh-Y8C"
      },
      "execution_count": null,
      "outputs": []
    },
    {
      "cell_type": "code",
      "source": [
        "y = shuffle[:,:2]\n",
        "t = shuffle[:,2]\n",
        "print('y:',y, '\\nt:',t)"
      ],
      "metadata": {
        "id": "saMJDAxZ-bMN"
      },
      "execution_count": null,
      "outputs": []
    },
    {
      "cell_type": "code",
      "source": [
        "\"\"\"tf.random.set_seed(39)\n",
        "np.random.seed(39)\"\"\"\n",
        "girdi = Input(shape=(1,))\n",
        "\n",
        "hidden = Dense(512, activation= 'tanh')(girdi)\n",
        "hidden = Dense(512, activation= 'tanh')(hidden)\n",
        "hidden = Dense(2)(hidden)\n",
        "\n",
        "\n",
        "model = Model(inputs=girdi, outputs=hidden)"
      ],
      "metadata": {
        "id": "rzUMIxAY-bQr"
      },
      "execution_count": null,
      "outputs": []
    },
    {
      "cell_type": "code",
      "source": [
        "class Loss:\n",
        "  sayac=0\n",
        "  def __init__(self, t, batch_size=1):\n",
        "    self.t = t\n",
        "    self.batch_size = batch_size\n",
        "\n",
        "  def custom_loss(self, y_true, y_pred):\n",
        "    mse = tf.reduce_sum((y_true - Loss(self.t, self.batch_size).z(self.t, y_pred))**2)\n",
        "    return mse\n",
        "\n",
        "  def z(self, t, y_pred):\n",
        "    f = (1. - tf.math.exp(-t[Loss.sayac*self.batch_size:(Loss.sayac+1)*self.batch_size]))\n",
        "    z = tf.constant([[0.,0.5]], dtype=tf.float32) + tf.multiply(tf.cast(f, dtype=tf.float32) , y_pred)\n",
        "    Loss.sayac +=1\n",
        "    self.batch_size = Loss.sayac*self.batch_size\n",
        "    return z\n"
      ],
      "metadata": {
        "id": "z7j0AxGpbFqg"
      },
      "execution_count": null,
      "outputs": []
    },
    {
      "cell_type": "code",
      "source": [
        "model.summary()"
      ],
      "metadata": {
        "id": "KodRx5JoV5P9"
      },
      "execution_count": null,
      "outputs": []
    },
    {
      "cell_type": "code",
      "source": [
        "adam = tf.keras.optimizers.Adam(learning_rate=0.001)\n",
        "model.compile(optimizer='adam', loss=Loss(t=t).custom_loss)"
      ],
      "metadata": {
        "id": "qGCfobRE-piI"
      },
      "execution_count": null,
      "outputs": []
    },
    {
      "cell_type": "code",
      "source": [
        "model.fit(x=t, y= y, epochs=100, batch_size=32)"
      ],
      "metadata": {
        "id": "vsBJ7s66-bVy"
      },
      "execution_count": null,
      "outputs": []
    },
    {
      "cell_type": "code",
      "source": [
        "t_deneme = np.arange(0, 4*np.pi, 0.02).reshape((629,1))\n",
        "pred = model.predict(t_deneme)"
      ],
      "metadata": {
        "id": "5Xy9RDpf-wUn"
      },
      "execution_count": null,
      "outputs": []
    },
    {
      "cell_type": "code",
      "source": [
        "plt.figure(figsize = (12, 8))\n",
        "plt.plot(pred[:, 0], pred[:, 1])\n",
        "plt.plot(sol.y.T[:, 0], sol.y.T[:, 1])\n",
        "plt.xlabel('q')\n",
        "plt.ylabel('p')\n",
        "plt.show()"
      ],
      "metadata": {
        "id": "sYkMA0nL-wW_"
      },
      "execution_count": null,
      "outputs": []
    },
    {
      "cell_type": "code",
      "source": [
        "def H(z):\n",
        "  return tf.reduce_sum((z**2)/2,axis=1)"
      ],
      "metadata": {
        "id": "i3EcXydvCJmc"
      },
      "execution_count": null,
      "outputs": []
    },
    {
      "cell_type": "code",
      "source": [
        "hamiltonian = H(pred)\n",
        "true_hamiltonian = H(sol.y.T)\n",
        "hamiltonian.shape"
      ],
      "metadata": {
        "id": "gRKT010ut8l2"
      },
      "execution_count": null,
      "outputs": []
    },
    {
      "cell_type": "code",
      "source": [
        "plt.figure(figsize = (12, 8))\n",
        "plt.plot(t_deneme,hamiltonian)\n",
        "plt.plot(t_eval, true_hamiltonian)\n",
        "plt.xlabel('t')\n",
        "plt.ylabel('H')\n",
        "plt.show()"
      ],
      "metadata": {
        "id": "o0Q_nmPXtpT7"
      },
      "execution_count": null,
      "outputs": []
    },
    {
      "cell_type": "code",
      "source": [
        ""
      ],
      "metadata": {
        "id": "s6qIsfortm1A"
      },
      "execution_count": null,
      "outputs": []
    }
  ]
}