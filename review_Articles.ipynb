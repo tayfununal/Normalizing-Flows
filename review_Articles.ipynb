{
  "nbformat": 4,
  "nbformat_minor": 0,
  "metadata": {
    "colab": {
      "name": "review_Articles.ipynb",
      "private_outputs": true,
      "provenance": [],
      "authorship_tag": "ABX9TyOkP7IWnNp1ZSVIXdCrG0hB",
      "include_colab_link": true
    },
    "kernelspec": {
      "name": "python3",
      "display_name": "Python 3"
    },
    "language_info": {
      "name": "python"
    }
  },
  "cells": [
    {
      "cell_type": "markdown",
      "metadata": {
        "id": "view-in-github",
        "colab_type": "text"
      },
      "source": [
        "<a href=\"https://colab.research.google.com/github/tayfununal/Normalizing-Flows/blob/main/review_Articles.ipynb\" target=\"_parent\"><img src=\"https://colab.research.google.com/assets/colab-badge.svg\" alt=\"Open In Colab\"/></a>"
      ]
    },
    {
      "cell_type": "markdown",
      "source": [
        "# Normalizing Flows Review Articles\n",
        "\n",
        "Two new review articles that are about normalizing flows have published. We will look these articles a little bit closer. These are following :\n",
        "\n",
        "Son iki yılda normalizing flows konusu hakkında iki tane review makalesi yayınlanmıştır. Yayınlanan bu makaleler;\n",
        "\n",
        "1.   Normalizing Flows: An Introduction and Review of Current Methods (2020)\n",
        "2.   Normalizing Flows for Probabilistic Modeling and Inference (2021)\n",
        "\n",
        "Biz bu çalışmada bu makalelere biraz daha yakından inceleyeceğiz."
      ],
      "metadata": {
        "id": "0OkGzvXz3gp9"
      }
    },
    {
      "cell_type": "markdown",
      "source": [
        "## Normalizing Flows: An Introduction and Review of Current Methods (2020)\n",
        "\n",
        "### Özet\n",
        "Normalizing Flows üreteç(generative) modeldir. Normalizing Flows lar ile bilinmeyen bir dağılımdan hem örneklem hem de yoğunluk değerlendirmesinin verimli ve kesin olabileceği izlenebilir dağılımlar üretilebilir. Bizim amacımız modellerin açıklamasını yapmak, en \"son state-of-art literature\" ü gözden geçirmek ve açık soruları, gelecek vaat eden yönleri belirlemektir.\n",
        "\n",
        "### Giriş\n",
        "\n",
        "Makine öğrenmesi ve istatistiğin önemli bir amacı olasılık dağılımından alınan örnekleri kullanarak bu olasılık dağılımını modellemektir. Bu örnek bir unsupervised öğrenmeye bir örnektir. Bazen \"generative modelling\" de denir. Etiketli(labelled) verilere karşın etiketsiz(unlabelled) verilerin ilişkilerindeki zenginliği çıkarmak önemlidir. Yoğunluk tahmini(density estimation), aykırı değer testi(outlier detection), veri kümesi özetleme ve prior construction(?). \n",
        "\n",
        "Üreteç modeller için birçok methot önerilmiştir. Doğrudan analitik yaklaşımlar, sabit bir dağılım ailesi ile gözlemlenen verilere yaklaşık olarak yaklaşır. "
      ],
      "metadata": {
        "id": "I5KRk1ix5F-f"
      }
    },
    {
      "cell_type": "code",
      "execution_count": null,
      "metadata": {
        "id": "geO7Dzjq3fZG"
      },
      "outputs": [],
      "source": [
        ""
      ]
    }
  ]
}