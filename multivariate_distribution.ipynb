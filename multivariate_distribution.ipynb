{
  "nbformat": 4,
  "nbformat_minor": 0,
  "metadata": {
    "colab": {
      "name": "multivariate_distribution.ipynb",
      "private_outputs": true,
      "provenance": [],
      "collapsed_sections": [],
      "authorship_tag": "ABX9TyP/wH26aj6r0+Z/vsmWvsT1",
      "include_colab_link": true
    },
    "kernelspec": {
      "name": "python3",
      "display_name": "Python 3"
    },
    "language_info": {
      "name": "python"
    },
    "accelerator": "GPU"
  },
  "cells": [
    {
      "cell_type": "markdown",
      "metadata": {
        "id": "view-in-github",
        "colab_type": "text"
      },
      "source": [
        "<a href=\"https://colab.research.google.com/github/tayfununal/Normalizing-Flows/blob/main/multivariate_distribution.ipynb\" target=\"_parent\"><img src=\"https://colab.research.google.com/assets/colab-badge.svg\" alt=\"Open In Colab\"/></a>"
      ]
    },
    {
      "cell_type": "code",
      "execution_count": null,
      "metadata": {
        "id": "8m1fl9N7V4AQ"
      },
      "outputs": [],
      "source": [
        "!pip install tensorflow-probability"
      ]
    },
    {
      "cell_type": "code",
      "source": [
        "import tensorflow as tf\n",
        "import tensorflow_probability as tfp\n",
        "import matplotlib.pyplot as plt\n",
        "\n",
        "tfd = tfp.distributions"
      ],
      "metadata": {
        "id": "oL0d6zWhWE0r"
      },
      "execution_count": null,
      "outputs": []
    },
    {
      "cell_type": "code",
      "source": [
        "normal_diag = tfd.MultivariateNormalDiag(loc=[0,1], scale_diag=[1,2])\n",
        "normal_diag"
      ],
      "metadata": {
        "id": "1Bcbx2fDWNjB"
      },
      "execution_count": null,
      "outputs": []
    },
    {
      "cell_type": "code",
      "source": [
        "normal_diag.sample(10)"
      ],
      "metadata": {
        "id": "ta-ffuJbWq2s"
      },
      "execution_count": null,
      "outputs": []
    },
    {
      "cell_type": "code",
      "source": [
        "sample = normal_diag.sample(10000)\n",
        "plt.scatter(sample[:,0], sample[:,1], marker='.', alpha=0.5)\n",
        "plt.axis('equal')\n",
        "plt.show()"
      ],
      "metadata": {
        "id": "fZMfLVf4Xz0i"
      },
      "execution_count": null,
      "outputs": []
    },
    {
      "cell_type": "code",
      "source": [
        "# create three \"baches\" of multivariate normals\n",
        "\n",
        "normal_diag_bach = tfd.MultivariateNormalDiag(loc=[[0,0],[0,0],[0,0]], scale_diag =[[1,2], [2,1], [2,2]])\n",
        "normal_diag_bach"
      ],
      "metadata": {
        "id": "G8LfIEY6YXJk"
      },
      "execution_count": null,
      "outputs": []
    },
    {
      "cell_type": "code",
      "source": [
        "samples = normal_diag_bach.sample(5)\n",
        "samples"
      ],
      "metadata": {
        "id": "FfrsZ4TwZtNj"
      },
      "execution_count": null,
      "outputs": []
    },
    {
      "cell_type": "code",
      "source": [
        "normal_diag_bach.log_prob(samples)"
      ],
      "metadata": {
        "id": "C5m1BRCaZx3L"
      },
      "execution_count": null,
      "outputs": []
    },
    {
      "cell_type": "code",
      "source": [
        "sample_batch = normal_diag_bach.sample(10000)\n",
        "sample_batch.shape"
      ],
      "metadata": {
        "id": "xnqZpoAQcYvk"
      },
      "execution_count": null,
      "outputs": []
    },
    {
      "cell_type": "code",
      "source": [
        "fig, axs = plt.subplots(1, 3, sharex=True, sharey=True, figsize =(10, 3))\n",
        "\n",
        "titles = ['cov_diag=[1, 2]', 'cov_diag=[2, 1]', 'cov_diag=[2, 2]']\n",
        "\n",
        "for i, (ax, title) in enumerate(zip(axs, titles)):\n",
        "  samples = sample_batch[:, i, :]\n",
        "  ax.scatter(samples[:, 0], samples[: ,1], marker='.', alpha=0.5)\n",
        "  ax.set_title(title)\n",
        "plt.show()"
      ],
      "metadata": {
        "id": "SIUDLjJcZ8n7"
      },
      "execution_count": null,
      "outputs": []
    },
    {
      "cell_type": "code",
      "source": [
        ""
      ],
      "metadata": {
        "id": "h_scyPYkb1yj"
      },
      "execution_count": null,
      "outputs": []
    }
  ]
}