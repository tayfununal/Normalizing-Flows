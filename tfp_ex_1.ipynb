{
  "nbformat": 4,
  "nbformat_minor": 0,
  "metadata": {
    "colab": {
      "name": "tfp_ex_1.ipynb",
      "private_outputs": true,
      "provenance": [],
      "authorship_tag": "ABX9TyMCJKn1vgwiJ06OPJ7iGZ6Y",
      "include_colab_link": true
    },
    "kernelspec": {
      "name": "python3",
      "display_name": "Python 3"
    },
    "language_info": {
      "name": "python"
    }
  },
  "cells": [
    {
      "cell_type": "markdown",
      "metadata": {
        "id": "view-in-github",
        "colab_type": "text"
      },
      "source": [
        "<a href=\"https://colab.research.google.com/github/tayfununal/Normalizing-Flows/blob/main/tfp_ex_1.ipynb\" target=\"_parent\"><img src=\"https://colab.research.google.com/assets/colab-badge.svg\" alt=\"Open In Colab\"/></a>"
      ]
    },
    {
      "cell_type": "code",
      "execution_count": null,
      "metadata": {
        "id": "GCN8C6zX9zAM"
      },
      "outputs": [],
      "source": [
        "import matplotlib.pyplot as plt\n",
        "import numpy as np\n",
        "import pandas as pd\n",
        "from sklearn.model_selection import train_test_split\n",
        "import tensorflow_probability as tfp\n",
        "import tensorflow as tf\n",
        "\n",
        "\n",
        "%matplotlib inline\n",
        "plt.style.use('default')\n",
        "\n",
        "tfd = tfp.distributions\n",
        "tfb = tfp.bijectors"
      ]
    },
    {
      "cell_type": "markdown",
      "source": [
        "z $\\sim N(0,1)$ $→$ x $\\sim N(5, 0.2)$ "
      ],
      "metadata": {
        "id": "NRvcC3QNDf3-"
      }
    },
    {
      "cell_type": "code",
      "source": [
        "N = 1000\n",
        "X = tfd.Normal(loc=5,scale=0.2).sample(1000)\n",
        "X = X.numpy().reshape([N,1])\n",
        "plt.hist(X,30)\n",
        "X.shape"
      ],
      "metadata": {
        "id": "FcuQ_a-u942I"
      },
      "execution_count": null,
      "outputs": []
    },
    {
      "cell_type": "code",
      "source": [
        "a = tf.Variable(0.0) # ortalaması: 0\n",
        "b = tf.Variable(1.0) # standart sapması: 1\n",
        "\n",
        "bijector = tfb.Shift(a)(tfb.Scale(b))\n",
        "dist = tfd.TransformedDistribution(distribution=tfd.Normal(loc=0,scale=1),bijector=bijector)\n",
        "dist.trainable_variables"
      ],
      "metadata": {
        "id": "hXaEAg9O-Ohf"
      },
      "execution_count": null,
      "outputs": []
    },
    {
      "cell_type": "code",
      "source": [
        "-tf.reduce_mean(dist.log_prob(X)) # Tüm eğitim kümesinin Negatif Log Likelihood(NLL) değeri"
      ],
      "metadata": {
        "id": "pd2WYjg5-bDf"
      },
      "execution_count": null,
      "outputs": []
    },
    {
      "cell_type": "code",
      "source": [
        "optimizer = tf.keras.optimizers.Adam(learning_rate=1e-1)\n",
        "\n",
        "for i in range(1000):\n",
        "    with tf.GradientTape() as tape:\n",
        "        loss = -tf.reduce_mean(dist.log_prob(X)) \n",
        "        gradients = tape.gradient(loss,           \n",
        "                    dist.trainable_variables)     \n",
        "    optimizer.apply_gradients(\n",
        "        zip(gradients, dist.trainable_variables))    \n",
        "    \n",
        "    if (i % 100 == 0):\n",
        "        print(i, \"NLL \",loss.numpy(), \" shift (a) \", a.numpy(), \" scale (b) \", b.numpy())"
      ],
      "metadata": {
        "id": "eG6YWK-Z-s2A"
      },
      "execution_count": null,
      "outputs": []
    },
    {
      "cell_type": "code",
      "source": [
        "xx = np.linspace(4,6,100)\n",
        "plt.hist(X, bins=50,density=True)\n",
        "\n",
        "# Modeli burada kontrol ediyoruz. Olasılık dağılımını tahmin ediyoruz.\n",
        "plt.plot(xx, dist.prob(xx) )\n",
        "dist.trainable_variables\n",
        "plt.xlabel('x')"
      ],
      "metadata": {
        "id": "xQii9d9CCkdo"
      },
      "execution_count": null,
      "outputs": []
    },
    {
      "cell_type": "code",
      "source": [
        "print(dist.mean())\n",
        "#dist.stddev() #not implemented for transformed model\n",
        "print(dist.prob(4.6))\n",
        "print(dist.quantile(0.2))"
      ],
      "metadata": {
        "id": "MOqxkRn4FSjH"
      },
      "execution_count": null,
      "outputs": []
    },
    {
      "cell_type": "code",
      "source": [
        ""
      ],
      "metadata": {
        "id": "WV4dHzPpFbAo"
      },
      "execution_count": null,
      "outputs": []
    }
  ]
}