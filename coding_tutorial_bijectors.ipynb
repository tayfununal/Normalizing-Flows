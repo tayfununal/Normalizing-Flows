{
  "nbformat": 4,
  "nbformat_minor": 0,
  "metadata": {
    "colab": {
      "name": "coding_tutorial_bijectors.ipynb",
      "provenance": [],
      "authorship_tag": "ABX9TyNw96ufqxj8htybImdTVHqB",
      "include_colab_link": true
    },
    "kernelspec": {
      "name": "python3",
      "display_name": "Python 3"
    },
    "language_info": {
      "name": "python"
    },
    "accelerator": "GPU"
  },
  "cells": [
    {
      "cell_type": "markdown",
      "metadata": {
        "id": "view-in-github",
        "colab_type": "text"
      },
      "source": [
        "<a href=\"https://colab.research.google.com/github/tayfununal/Normalizing-Flows/blob/main/coding_tutorial_bijectors.ipynb\" target=\"_parent\"><img src=\"https://colab.research.google.com/assets/colab-badge.svg\" alt=\"Open In Colab\"/></a>"
      ]
    },
    {
      "cell_type": "code",
      "execution_count": 12,
      "metadata": {
        "id": "zL7t8DTI7gCI"
      },
      "outputs": [],
      "source": [
        "import tensorflow as tf\n",
        "import tensorflow_probability as tfp\n",
        "from tensorflow.keras.models import Sequential\n",
        "from tensorflow.keras.layers import Dense\n",
        "import matplotlib.pyplot as plt\n",
        "\n",
        "tfd = tfp.distributions\n",
        "tfb = tfp.bijectors"
      ]
    },
    {
      "cell_type": "markdown",
      "source": [
        "# Ex 1"
      ],
      "metadata": {
        "id": "630SCImeAF7C"
      }
    },
    {
      "cell_type": "code",
      "source": [
        "z = tf.constant([1., 2., 3.])"
      ],
      "metadata": {
        "id": "sqiSTKro_WrZ"
      },
      "execution_count": 2,
      "outputs": []
    },
    {
      "cell_type": "code",
      "source": [
        "scale = tfb.Scale(2.)\n",
        "\n",
        "scale_forward = scale.forward(z)\n",
        "scale_inverse = scale.inverse(z)\n",
        "\n",
        "print(scale_forward, scale_inverse)"
      ],
      "metadata": {
        "colab": {
          "base_uri": "https://localhost:8080/"
        },
        "id": "bJB_tPpy_WuB",
        "outputId": "dbf4ad85-b465-4ab6-9f9b-59a07f0295ba"
      },
      "execution_count": 5,
      "outputs": [
        {
          "output_type": "stream",
          "name": "stdout",
          "text": [
            "tf.Tensor([2. 4. 6.], shape=(3,), dtype=float32) tf.Tensor([0.5 1.  1.5], shape=(3,), dtype=float32)\n"
          ]
        }
      ]
    },
    {
      "cell_type": "markdown",
      "source": [
        "# Ex 2"
      ],
      "metadata": {
        "id": "1sjrWoV4AK-B"
      }
    },
    {
      "cell_type": "code",
      "source": [
        "z = tf.constant([1., 2., 3.])"
      ],
      "metadata": {
        "id": "O6Ow6uRr_WwS"
      },
      "execution_count": 6,
      "outputs": []
    },
    {
      "cell_type": "code",
      "source": [
        "scale = tfb.Scale(2.)\n",
        "shift = tfb.Shift(1.)\n",
        "\n",
        "scale_and_shift = tfb.Chain([shift, scale])\n",
        "\n",
        "print(scale_and_shift.forward(z))\n",
        "print(scale_and_shift.inverse(z))"
      ],
      "metadata": {
        "colab": {
          "base_uri": "https://localhost:8080/"
        },
        "id": "YIQiRK9o_W04",
        "outputId": "f3748a49-b143-40d0-dca5-2284b06f2b86"
      },
      "execution_count": 10,
      "outputs": [
        {
          "output_type": "stream",
          "name": "stdout",
          "text": [
            "tf.Tensor([3. 5. 7.], shape=(3,), dtype=float32)\n",
            "tf.Tensor([0.  0.5 1. ], shape=(3,), dtype=float32)\n"
          ]
        }
      ]
    },
    {
      "cell_type": "markdown",
      "source": [
        "# Ex 3"
      ],
      "metadata": {
        "id": "CSxHu2qvC7YZ"
      }
    },
    {
      "cell_type": "code",
      "source": [
        " normal = tfd.Normal(loc=0., scale=1.)"
      ],
      "metadata": {
        "id": "SIbaTA7A_W3K"
      },
      "execution_count": 28,
      "outputs": []
    },
    {
      "cell_type": "code",
      "source": [
        "z = normal.sample(1000)\n",
        "plt.hist(z)"
      ],
      "metadata": {
        "colab": {
          "base_uri": "https://localhost:8080/",
          "height": 352
        },
        "id": "0Stvjl2P_W5T",
        "outputId": "ce3aed61-5ee9-4632-c1fd-71eae7e59ec7"
      },
      "execution_count": 29,
      "outputs": [
        {
          "output_type": "execute_result",
          "data": {
            "text/plain": [
              "(array([ 20.,  57., 125., 203., 235., 199., 110.,  37.,  12.,   2.]),\n",
              " array([-2.6701388 , -2.0591378 , -1.4481366 , -0.8371355 , -0.22613439,\n",
              "         0.3848667 ,  0.99586785,  1.606869  ,  2.21787   ,  2.8288713 ,\n",
              "         3.4398723 ], dtype=float32),\n",
              " <a list of 10 Patch objects>)"
            ]
          },
          "metadata": {},
          "execution_count": 29
        },
        {
          "output_type": "display_data",
          "data": {
            "text/plain": [
              "<Figure size 432x288 with 1 Axes>"
            ],
            "image/png": "[encoded data removed]"
          },
          "metadata": {
            "needs_background": "light"
          }
        }
      ]
    },
    {
      "cell_type": "code",
      "source": [
        "scale = tfb.Scale(2.)\n",
        "shift = tfb.Shift(1.)\n",
        "\n",
        "scale_and_shift = tfb.Chain([shift, scale])\n",
        "\n",
        "targets = scale_and_shift.forward(z)\n",
        "plt.hist(targets)"
      ],
      "metadata": {
        "colab": {
          "base_uri": "https://localhost:8080/",
          "height": 352
        },
        "id": "ErTM3W3UESun",
        "outputId": "36713ffb-ec99-4da3-bf62-1f2776655606"
      },
      "execution_count": 30,
      "outputs": [
        {
          "output_type": "execute_result",
          "data": {
            "text/plain": [
              "(array([ 20.,  57., 125., 203., 235., 199., 110.,  37.,  12.,   2.]),\n",
              " array([-4.3402777, -3.1182754, -1.8962733, -0.674271 ,  0.5477312,\n",
              "         1.7697334,  2.9917357,  4.213738 ,  5.43574  ,  6.6577425,\n",
              "         7.8797445], dtype=float32),\n",
              " <a list of 10 Patch objects>)"
            ]
          },
          "metadata": {},
          "execution_count": 30
        },
        {
          "output_type": "display_data",
          "data": {
            "text/plain": [
              "<Figure size 432x288 with 1 Axes>"
            ],
            "image/png": "[encoded data removed]"
          },
          "metadata": {
            "needs_background": "light"
          }
        }
      ]
    },
    {
      "cell_type": "markdown",
      "source": [
        "# Ex 4"
      ],
      "metadata": {
        "id": "LtHTGJSkFjiA"
      }
    },
    {
      "cell_type": "code",
      "source": [
        "uniform = tfd.Uniform(low=0., high=1.)"
      ],
      "metadata": {
        "id": "WT0PqQvuEoFn"
      },
      "execution_count": 40,
      "outputs": []
    },
    {
      "cell_type": "code",
      "source": [
        "z = uniform.sample(1000)\n",
        "\n",
        "plt.hist(z)"
      ],
      "metadata": {
        "colab": {
          "base_uri": "https://localhost:8080/",
          "height": 352
        },
        "id": "iuGUDmN7FvT3",
        "outputId": "96e39333-45fa-488a-da3f-b4ff0a65ab3a"
      },
      "execution_count": 41,
      "outputs": [
        {
          "output_type": "execute_result",
          "data": {
            "text/plain": [
              "(array([ 95.,  81., 106.,  97., 113., 104., 106.,  92.,  94., 112.]),\n",
              " array([0.00495398, 0.1041833 , 0.20341262, 0.30264196, 0.40187126,\n",
              "        0.5011006 , 0.60032994, 0.6995593 , 0.79878855, 0.8980179 ,\n",
              "        0.9972472 ], dtype=float32),\n",
              " <a list of 10 Patch objects>)"
            ]
          },
          "metadata": {},
          "execution_count": 41
        },
        {
          "output_type": "display_data",
          "data": {
            "text/plain": [
              "<Figure size 432x288 with 1 Axes>"
            ],
            "image/png": "[encoded data removed]"
          },
          "metadata": {
            "needs_background": "light"
          }
        }
      ]
    },
    {
      "cell_type": "code",
      "source": [
        "scale = tfb.Scale(10.)\n",
        "shift = tfb.Shift(2.)\n",
        "\n",
        "scale_and_shift = tfb.Chain([shift, scale])\n",
        "\n",
        "targets = scale_and_shift.forward(z)\n",
        "plt.hist(targets)"
      ],
      "metadata": {
        "colab": {
          "base_uri": "https://localhost:8080/",
          "height": 352
        },
        "id": "QzfGni59F0Om",
        "outputId": "ad15a384-8113-4429-ad5d-0a8c9b7a7e66"
      },
      "execution_count": 42,
      "outputs": [
        {
          "output_type": "execute_result",
          "data": {
            "text/plain": [
              "(array([ 95.,  81., 106.,  97., 113., 104., 106.,  92.,  94., 112.]),\n",
              " array([ 2.0495398,  3.041833 ,  4.0341263,  5.0264196,  6.018713 ,\n",
              "         7.011006 ,  8.0033   ,  8.995592 ,  9.987885 , 10.980179 ,\n",
              "        11.972472 ], dtype=float32),\n",
              " <a list of 10 Patch objects>)"
            ]
          },
          "metadata": {},
          "execution_count": 42
        },
        {
          "output_type": "display_data",
          "data": {
            "text/plain": [
              "<Figure size 432x288 with 1 Axes>"
            ],
            "image/png": "[encoded data removed]"
          },
          "metadata": {
            "needs_background": "light"
          }
        }
      ]
    },
    {
      "cell_type": "code",
      "source": [
        "scale_and_shift = tfb.Chain([shift, scale])\n",
        "\n",
        "targets_inverse = scale_and_shift.inverse(targets)\n",
        "plt.hist(targets_inverse)"
      ],
      "metadata": {
        "colab": {
          "base_uri": "https://localhost:8080/",
          "height": 352
        },
        "id": "6NtlLaPZGEFX",
        "outputId": "7c3beff0-235b-4b47-c239-5ea855acc383"
      },
      "execution_count": 39,
      "outputs": [
        {
          "output_type": "execute_result",
          "data": {
            "text/plain": [
              "(array([108., 100.,  93., 106., 110.,  87., 119., 102.,  94.,  81.]),\n",
              " array([2.5033951e-04, 1.0011218e-01, 1.9997402e-01, 2.9983586e-01,\n",
              "        3.9969769e-01, 4.9955952e-01, 5.9942138e-01, 6.9928318e-01,\n",
              "        7.9914504e-01, 8.9900684e-01, 9.9886870e-01], dtype=float32),\n",
              " <a list of 10 Patch objects>)"
            ]
          },
          "metadata": {},
          "execution_count": 39
        },
        {
          "output_type": "display_data",
          "data": {
            "text/plain": [
              "<Figure size 432x288 with 1 Axes>"
            ],
            "image/png": "[encoded data removed]"
          },
          "metadata": {
            "needs_background": "light"
          }
        }
      ]
    },
    {
      "cell_type": "code",
      "source": [
        " "
      ],
      "metadata": {
        "id": "8D5BFpfTGKt2"
      },
      "execution_count": null,
      "outputs": []
    }
  ]
}