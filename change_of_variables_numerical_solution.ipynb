{
  "nbformat": 4,
  "nbformat_minor": 0,
  "metadata": {
    "colab": {
      "name": "change_of_variables_numerical_solution.ipynb",
      "private_outputs": true,
      "provenance": [],
      "authorship_tag": "ABX9TyP44pvNYctFki5u0JA7KNDE",
      "include_colab_link": true
    },
    "kernelspec": {
      "name": "python3",
      "display_name": "Python 3"
    },
    "language_info": {
      "name": "python"
    },
    "accelerator": "GPU"
  },
  "cells": [
    {
      "cell_type": "markdown",
      "metadata": {
        "id": "view-in-github",
        "colab_type": "text"
      },
      "source": [
        "<a href=\"https://colab.research.google.com/github/tayfununal/Normalizing-Flows/blob/main/change_of_variables_numerical_solution.ipynb\" target=\"_parent\"><img src=\"https://colab.research.google.com/assets/colab-badge.svg\" alt=\"Open In Colab\"/></a>"
      ]
    },
    {
      "cell_type": "code",
      "execution_count": null,
      "metadata": {
        "id": "ytspV-Hk3-oi"
      },
      "outputs": [],
      "source": [
        "import matplotlib.pyplot as plt\n",
        "import numpy as np\n",
        "import pandas as pd\n",
        "from sklearn.model_selection import train_test_split\n",
        "import tensorflow_probability as tfp\n",
        "\n",
        "%matplotlib inline\n",
        "plt.style.use('default')\n",
        "\n",
        "tfd = tfp.distributions\n",
        "tfb = tfp.bijectors"
      ]
    },
    {
      "cell_type": "code",
      "source": [
        "# Bijector kullanımı. Eğer kendi bijectorünü tanımlarsanız aşağıdaki şekilde kullanabilirsiniz.\n",
        "g = tfb.Square() # This is a bijector\n",
        "g.forward(2.0) #4"
      ],
      "metadata": {
        "id": "rslSPOJKAdWN"
      },
      "execution_count": null,
      "outputs": []
    },
    {
      "cell_type": "code",
      "source": [
        "g.inverse(4.0) #2"
      ],
      "metadata": {
        "id": "lOhC7njlAd7o"
      },
      "execution_count": null,
      "outputs": []
    },
    {
      "cell_type": "markdown",
      "source": [
        "\n",
        "\n",
        "---\n",
        "\n",
        "\n",
        "**Amaç:** Bilinmeyen bir dağılımı bilinen bir dağılım kullanarak olasılık dağılımını elde etmektir. İki dağılım arasında bağlantı kurmak için değişken değiştirme tekniği kullanılır. Bu basit bir örnek ile açıklanacaktır.\n",
        "\n",
        "\n",
        "---\n",
        "\n",
        "\n",
        "> **Temel Dağılım** : $p_z(z)$ uniform dağılım olsun.\n",
        "\n",
        "> **Hedef Dağılım** : $p_x(x)$ bilinmeyen dağılımı temsil etmektedir.\n",
        "\n",
        "\n",
        "---\n",
        "\n",
        "\n",
        "**Dönüşüm fonksiyonu:**\n",
        "\\begin{align*}\n",
        "                    g(x) &= x^2 \\\\\n",
        "                    g'(x) &= 2x \\\\\n",
        "                    g^{-1}(x) &= \\sqrt x\\\\\n",
        "\\end{align*}\n",
        "\n",
        "\n",
        "---\n",
        "\n",
        "\n",
        "**Uniform dağılımın olasılık yoğunluk fonksiyonu:**\n",
        "\\begin{align*}\n",
        "  p_z(z) =\\begin{cases}\n",
        "                        \\frac{1}{b-a} \\ \\text{ için } a\\leq z \\leq b \\\\\n",
        "                        \\ \\ 0 \\ \\ \\ \\text{ için } z<a \\text{ ve } z>b\n",
        "        \\end{cases}\n",
        "\\end{align*}\n",
        "\n",
        "\n",
        "---\n",
        "\n",
        "\n",
        "Temel dağılıma g dönüşümü uyguluyoruz.\n",
        "\\begin{align*}\n",
        "                      x &= g(z) = z^2 \\\\\n",
        "                      z &= g^{-1}(x) = \\sqrt x\n",
        "\\end{align*}\n",
        "\n",
        "\n",
        "---\n",
        "\n",
        "\n",
        "Değişken değiştirme tekniği :\n",
        "\\begin{align*}\n",
        "                      p_x(x) &= p_z(z)* |\\frac{dg(z)}{dz}|^{-1} \\\\\n",
        "                      &= p_z(g^{-1}(x)) * |g^{'}(g^{-1}(x))|^{-1}  \\\\\n",
        "                      &= \\frac{1}{2-0} * |g^{'}(\\sqrt x)|^{-1} \\\\\n",
        "                      &= \\frac{1}{2} * |2\\sqrt x|^{-1} \\\\\n",
        "                      &= \\frac{1}{2} * \\frac{1}{2\\sqrt x} & \\\\\n",
        "                      &= \\frac{1}{4 \\sqrt x}\n",
        "\\end{align*}\n",
        "\n",
        "\n",
        "---\n",
        "\n"
      ],
      "metadata": {
        "id": "gqa0FA0eGFaO"
      }
    },
    {
      "cell_type": "code",
      "source": [
        "N = 10000      # Örnek alıyoruz.\n",
        "z = tfd.Uniform(low=0, high=2)\n",
        "zs = z.sample(N)\n",
        "\n",
        "plt.hist(zs, density=True, bins=30)\n",
        "\n",
        "zd = np.linspace(-1,3,1000)\n",
        "plt.plot(zd, z.prob(zd), linewidth=3)\n",
        "\n",
        "plt.ylabel('density $p_z(z)$ and samples')\n",
        "plt.xlabel('z')"
      ],
      "metadata": {
        "id": "1mfjsYNvEGZ4"
      },
      "execution_count": null,
      "outputs": []
    },
    {
      "cell_type": "code",
      "source": [
        "x = zs**2\n",
        "plt.hist(x, density=True, bins=30)\n",
        "plt.ylabel('density')\n",
        "plt.xlabel('x')"
      ],
      "metadata": {
        "id": "xT8Pwl7kELw9"
      },
      "execution_count": null,
      "outputs": []
    },
    {
      "cell_type": "code",
      "source": [
        "x = zs**2\n",
        "plt.hist(x, density=True, bins=30)\n",
        "plt.ylabel('density')\n",
        "plt.xlabel('x')\n",
        "\n",
        "xs = np.linspace(0.03,4,100)\n",
        "plt.plot(xs, 1./4 * 1/np.sqrt(xs), linewidth=3)\n",
        "plt.show()"
      ],
      "metadata": {
        "id": "5M0a9drZEQZH"
      },
      "execution_count": null,
      "outputs": []
    }
  ]
}