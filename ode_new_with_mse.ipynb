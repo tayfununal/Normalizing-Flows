{
  "nbformat": 4,
  "nbformat_minor": 0,
  "metadata": {
    "colab": {
      "name": "ode_new_with_mse.ipynb",
      "private_outputs": true,
      "provenance": [],
      "authorship_tag": "ABX9TyPvekzk5HqS0N54jT9Mm6Sl",
      "include_colab_link": true
    },
    "kernelspec": {
      "name": "python3",
      "display_name": "Python 3"
    },
    "language_info": {
      "name": "python"
    }
  },
  "cells": [
    {
      "cell_type": "markdown",
      "metadata": {
        "id": "view-in-github",
        "colab_type": "text"
      },
      "source": [
        "<a href=\"https://colab.research.google.com/github/tayfununal/Normalizing-Flows/blob/main/ode_new_with_mse.ipynb\" target=\"_parent\"><img src=\"https://colab.research.google.com/assets/colab-badge.svg\" alt=\"Open In Colab\"/></a>"
      ]
    },
    {
      "cell_type": "code",
      "execution_count": null,
      "metadata": {
        "id": "P4I9RMQZi9EK"
      },
      "outputs": [],
      "source": [
        "import matplotlib.pyplot as plt\n",
        "import numpy as np\n",
        "from scipy.integrate import solve_ivp\n",
        "\n",
        "plt.style.use('seaborn-poster')\n",
        "\n",
        "%matplotlib inline\n",
        "\"\"\"\n",
        "def F(t,s):       # Diff eq F(t,s) = 0\n",
        "  return [np.cos(t), -np.sin(t)]\n",
        "\"\"\"\n",
        "def F(t,y):       # Diff eq F(t,s) = 0\n",
        "  return [y[1], -y[0]]\n",
        "\n",
        "t_eval = np.arange(0, 2*np.pi, 0.01)\n",
        "sol = solve_ivp(F, [0, 2*np.pi], [0., 1.], t_eval=t_eval, dense_output=True)\n",
        "\n",
        "\n",
        "plt.figure(figsize = (8, 8))\n",
        "\n",
        "plt.subplot(221)\n",
        "plt.plot(sol.t, sol.y[0])\n",
        "plt.xlabel('t')\n",
        "plt.ylabel('H[0] = sin(t)')\n",
        "\n",
        "plt.subplot(222)\n",
        "plt.plot(sol.t, sol.y[0] - np.sin(sol.t))\n",
        "plt.xlabel('t')\n",
        "plt.ylabel('H[0] - sin(t)')\n",
        "\n",
        "plt.subplot(223)\n",
        "plt.plot(sol.t, sol.y[1])\n",
        "plt.xlabel('t')\n",
        "plt.ylabel('H[1] = cos(t)')\n",
        "\n",
        "plt.subplot(224)\n",
        "plt.plot(sol.t, sol.y[1] - np.cos(sol.t))\n",
        "plt.xlabel('t')\n",
        "plt.ylabel('H[1] - cos(t)')\n",
        "\n",
        "plt.tight_layout()\n",
        "plt.show()"
      ]
    },
    {
      "cell_type": "code",
      "source": [
        "plt.figure(figsize = (4, 4))\n",
        "plt.plot(sol.y.T[:, 0], sol.y.T[:, 1])\n",
        "plt.xlabel('q')\n",
        "plt.ylabel('p')\n",
        "plt.show()\n"
      ],
      "metadata": {
        "id": "WIQUJUPdCW2B"
      },
      "execution_count": null,
      "outputs": []
    },
    {
      "cell_type": "code",
      "source": [
        "import tensorflow as tf\n",
        "from tensorflow.keras.models import Sequential\n",
        "from tensorflow.keras import Input, Model\n",
        "from tensorflow.keras.layers import Dense"
      ],
      "metadata": {
        "id": "stltw--2j0xW"
      },
      "execution_count": null,
      "outputs": []
    },
    {
      "cell_type": "code",
      "source": [
        "y = sol.y.T # etiketlerimiz\n",
        "t = sol.t   # t değerlerimiz"
      ],
      "metadata": {
        "id": "hk8Mm56Rj3ZK"
      },
      "execution_count": null,
      "outputs": []
    },
    {
      "cell_type": "code",
      "source": [
        "t = t.reshape(([t.shape[0],1]))\n",
        "shuffle = np.concatenate((y,t), axis=1)\n",
        "np.random.shuffle(shuffle)\n",
        "shuffle"
      ],
      "metadata": {
        "id": "H1io-mkaj3bN"
      },
      "execution_count": null,
      "outputs": []
    },
    {
      "cell_type": "code",
      "source": [
        "y = shuffle[:,:2]\n",
        "t = shuffle[:,2]\n",
        "print('y:',y, '\\nt:',t)"
      ],
      "metadata": {
        "id": "kPkTk6yVj3eG"
      },
      "execution_count": null,
      "outputs": []
    },
    {
      "cell_type": "code",
      "source": [
        "\"\"\"tf.random.set_seed(39)\n",
        "np.random.seed(39)\"\"\"\n",
        "\n",
        "girdi = Input(shape=(1,))\n",
        "\n",
        "hidden = Dense(512, activation= 'tanh')(girdi)\n",
        "hidden = Dense(512, activation= 'tanh')(hidden)\n",
        "hidden = Dense(2)(hidden)\n",
        "\n",
        "\n",
        "model = Model(inputs=girdi, outputs=hidden)"
      ],
      "metadata": {
        "id": "7BdlepQqj3gi"
      },
      "execution_count": null,
      "outputs": []
    },
    {
      "cell_type": "code",
      "source": [
        "model.compile(optimizer='adam', loss='mse')\n",
        "model.fit(x=t, y= y, epochs=100, batch_size=16)"
      ],
      "metadata": {
        "id": "545xtfBfm7Iw"
      },
      "execution_count": null,
      "outputs": []
    },
    {
      "cell_type": "code",
      "source": [
        "t_deneme = np.arange(0, 2*np.pi, 0.02).reshape((315,1)) #629\n",
        "pred = model.predict(t_deneme)\n",
        "\n",
        "plt.figure(figsize = (4, 4))\n",
        "plt.plot(pred[:, 0], pred[:, 1])\n",
        "plt.plot(sol.y.T[:, 0], sol.y.T[:, 1])\n",
        "plt.xlabel('q')\n",
        "plt.ylabel('p')\n",
        "plt.show()"
      ],
      "metadata": {
        "id": "_Pm9kXJGj3k9"
      },
      "execution_count": null,
      "outputs": []
    },
    {
      "cell_type": "code",
      "source": [
        "def H(z):\n",
        "  return tf.reduce_sum((z**2)/2,axis=1)\n",
        "  \n",
        "hamiltonian = H(pred)\n",
        "true_hamiltonian = H(sol.y.T)\n",
        "\n",
        "plt.figure(figsize = (4, 4))\n",
        "plt.plot(t_deneme,hamiltonian)\n",
        "plt.plot(t_eval, true_hamiltonian)\n",
        "plt.xlabel('t')\n",
        "plt.ylabel('H')\n",
        "plt.show()"
      ],
      "metadata": {
        "id": "APluU0QEwW8g"
      },
      "execution_count": null,
      "outputs": []
    },
    {
      "cell_type": "code",
      "source": [
        ""
      ],
      "metadata": {
        "id": "u8MSVBsXB5uz"
      },
      "execution_count": null,
      "outputs": []
    }
  ]
}