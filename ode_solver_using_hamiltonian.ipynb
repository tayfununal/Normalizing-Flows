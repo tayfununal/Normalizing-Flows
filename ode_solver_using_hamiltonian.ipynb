{
  "nbformat": 4,
  "nbformat_minor": 0,
  "metadata": {
    "colab": {
      "name": "ode_solver_using_hamiltonian.ipynb",
      "private_outputs": true,
      "provenance": [],
      "authorship_tag": "ABX9TyNfRBmkrZ9Gqy9V7Eydg/Cp",
      "include_colab_link": true
    },
    "kernelspec": {
      "name": "python3",
      "display_name": "Python 3"
    },
    "language_info": {
      "name": "python"
    }
  },
  "cells": [
    {
      "cell_type": "markdown",
      "metadata": {
        "id": "view-in-github",
        "colab_type": "text"
      },
      "source": [
        "<a href=\"https://colab.research.google.com/github/tayfununal/Normalizing-Flows/blob/main/ode_solver_using_hamiltonian.ipynb\" target=\"_parent\"><img src=\"https://colab.research.google.com/assets/colab-badge.svg\" alt=\"Open In Colab\"/></a>"
      ]
    },
    {
      "cell_type": "markdown",
      "source": [
        "# **Solving Differential Equation**"
      ],
      "metadata": {
        "id": "ZIr5oD_VnROQ"
      }
    },
    {
      "cell_type": "markdown",
      "source": [
        "## **Hamiltonian Mechanics**\n",
        "\n",
        "\\begin{align}\n",
        "        H(q,p) = \\frac {q^2}{2} + \\frac {p^2}{2}\n",
        "\\end{align}\n",
        "\n",
        "\n",
        "\\begin{align}\n",
        "     q(t) = sin(t), p(t) = cos(t) \\implies \\dot{q} = \\frac{dq(t)}{dt} = cos(t) = p \\text{ ve } \\dot{p} = \\frac{dp(t)}{dt} = -sin(t) = -q\n",
        "\\end{align}\n",
        "\n",
        "\n",
        "\\begin{align}\n",
        "        \\frac{ \\partial H(q(t), p(t))}{ \\partial t} = \\begin{pmatrix}\n",
        "         \\dot{q} \\\\\n",
        "         \\dot{p} \n",
        "        \\end{pmatrix} = \\begin{pmatrix}\n",
        "         p \\\\\n",
        "         -q \n",
        "        \\end{pmatrix}\n",
        "    \\end{align}\n"
      ],
      "metadata": {
        "id": "m7PGvvSRnvbp"
      }
    },
    {
      "cell_type": "code",
      "execution_count": null,
      "metadata": {
        "id": "GwNO9opnPIF1"
      },
      "outputs": [],
      "source": [
        "import matplotlib.pyplot as plt\n",
        "import numpy as np\n",
        "from scipy.integrate import solve_ivp\n",
        "\n",
        "plt.style.use('seaborn-poster')\n",
        "\n",
        "%matplotlib inline\n",
        "\n",
        "def F(t,s):\n",
        "  return [np.cos(t), -np.sin(t)]\n",
        "\n",
        "t_eval = np.arange(0, 16*np.pi, 0.01)\n",
        "sol = solve_ivp(F, [0, 16*np.pi], [0., 1.], t_eval=t_eval, dense_output=True)\n",
        "\n",
        "\n",
        "plt.figure(figsize = (12, 6))\n",
        "\n",
        "plt.subplot(221)\n",
        "plt.plot(sol.t, sol.y[0])\n",
        "plt.xlabel('t')\n",
        "plt.ylabel('H[0] = sin(t)')\n",
        "\n",
        "plt.subplot(222)\n",
        "plt.plot(sol.t, sol.y[0] - np.sin(sol.t))\n",
        "plt.xlabel('t')\n",
        "plt.ylabel('H[0] - sin(t)')\n",
        "\n",
        "plt.subplot(223)\n",
        "plt.plot(sol.t, sol.y[1])\n",
        "plt.xlabel('t')\n",
        "plt.ylabel('H[1] = cos(t)')\n",
        "\n",
        "plt.subplot(224)\n",
        "plt.plot(sol.t, sol.y[1] - np.cos(sol.t))\n",
        "plt.xlabel('t')\n",
        "plt.ylabel('H[1] - cos(t)')\n",
        "\n",
        "plt.tight_layout()\n",
        "plt.show()"
      ]
    },
    {
      "cell_type": "code",
      "source": [
        "plt.figure(figsize = (12, 8))\n",
        "plt.plot(sol.y.T[:, 0], sol.y.T[:, 1])\n",
        "plt.xlabel('q')\n",
        "plt.ylabel('p')\n",
        "plt.show()"
      ],
      "metadata": {
        "id": "fCx0Xe6NbQQu"
      },
      "execution_count": null,
      "outputs": []
    },
    {
      "cell_type": "code",
      "source": [
        "import tensorflow as tf\n",
        "from tensorflow.keras.models import Sequential\n",
        "from tensorflow.keras.layers import Dense"
      ],
      "metadata": {
        "id": "8r8YGyAB5siY"
      },
      "execution_count": null,
      "outputs": []
    },
    {
      "cell_type": "code",
      "source": [
        "y = sol.y.T"
      ],
      "metadata": {
        "id": "hrp1UXbM56XG"
      },
      "execution_count": null,
      "outputs": []
    },
    {
      "cell_type": "code",
      "source": [
        "y.shape # (q,p)"
      ],
      "metadata": {
        "id": "e7in-tXk6Fut"
      },
      "execution_count": null,
      "outputs": []
    },
    {
      "cell_type": "code",
      "source": [
        "t = sol.t"
      ],
      "metadata": {
        "id": "2fr3QbjJ-8p7"
      },
      "execution_count": null,
      "outputs": []
    },
    {
      "cell_type": "code",
      "source": [
        "from tensorflow.python.ops.gen_math_ops import sin\n",
        "model = Sequential([\n",
        "    Dense(64, activation= 'tanh',input_shape=(1,)),\n",
        "    Dense(16, activation= 'tanh'),\n",
        "    Dense(64, activation= 'tanh'),\n",
        "    Dense(32, activation= 'tanh'),\n",
        "    Dense(16, activation='tanh'),\n",
        "\n",
        "    Dense(2,)\n",
        "])"
      ],
      "metadata": {
        "id": "3ZVl9BtD6Gpl"
      },
      "execution_count": null,
      "outputs": []
    },
    {
      "cell_type": "code",
      "source": [
        "model.summary()"
      ],
      "metadata": {
        "id": "yWC7Nq5Q6dC9"
      },
      "execution_count": null,
      "outputs": []
    },
    {
      "cell_type": "code",
      "source": [
        "import keras.backend as K\n",
        "def custom_loss(y_true, y_pred):\n",
        "\n",
        "    #y_true = K.print_tensor(y_true, message='y_true = ')\n",
        "    #y_pred = K.print_tensor(y_pred, message='y_pred = ')\n",
        "    \n",
        "    # calculate loss, using y_pred\n",
        "    #y_true = np.array([[1/2],[0]]).reshape((1,2))      # H(q,p) = q^2/2 + p^2/2   , q(t=0)=cos(0)=1, p(t=0)=sin(0)=0 \n",
        "    #y_pred = tf.matmul(tf.cast(y_pred, tf.float64), tf.convert_to_tensor(np.array([[0., 1.],[-1., 0.]], dtype='float64')))\n",
        "\n",
        "    y_true = tf.reduce_sum((y_true**2)/2)\n",
        "    y_pred = tf.reduce_sum((y_pred**2)/2)\n",
        "\n",
        "    loss = (y_true - y_pred)**2\n",
        "\n",
        "    return loss"
      ],
      "metadata": {
        "id": "Lm5LHCkr7zHH"
      },
      "execution_count": null,
      "outputs": []
    },
    {
      "cell_type": "code",
      "source": [
        "model.compile(optimizer='adam', loss=custom_loss)"
      ],
      "metadata": {
        "id": "fIH6WUQG63Gs"
      },
      "execution_count": null,
      "outputs": []
    },
    {
      "cell_type": "code",
      "source": [
        "model.fit(x=t, y= y, epochs=200)"
      ],
      "metadata": {
        "id": "rRSppkNj_5HJ"
      },
      "execution_count": null,
      "outputs": []
    },
    {
      "cell_type": "code",
      "source": [
        "t_deneme = np.arange(0, 2*np.pi, 0.02).reshape((315,1))\n",
        "pred = model.predict(t_deneme)"
      ],
      "metadata": {
        "id": "kbkCtEANAdyS"
      },
      "execution_count": null,
      "outputs": []
    },
    {
      "cell_type": "code",
      "source": [
        "plt.figure(figsize = (12, 8))\n",
        "plt.plot(pred[:, 0], pred[:, 1])\n",
        "plt.xlabel('q')\n",
        "plt.ylabel('p')\n",
        "plt.show()"
      ],
      "metadata": {
        "id": "Bihd3rnzCQj5"
      },
      "execution_count": null,
      "outputs": []
    }
  ]
}