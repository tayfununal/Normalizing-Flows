{
  "nbformat": 4,
  "nbformat_minor": 0,
  "metadata": {
    "colab": {
      "name": "mse_then_hamiltonian.ipynb",
      "private_outputs": true,
      "provenance": [],
      "authorship_tag": "ABX9TyNupQVYFNCCsFDK9sgG9A79",
      "include_colab_link": true
    },
    "kernelspec": {
      "name": "python3",
      "display_name": "Python 3"
    },
    "language_info": {
      "name": "python"
    }
  },
  "cells": [
    {
      "cell_type": "markdown",
      "metadata": {
        "id": "view-in-github",
        "colab_type": "text"
      },
      "source": [
        "<a href=\"https://colab.research.google.com/github/tayfununal/Normalizing-Flows/blob/main/mse_then_hamiltonian.ipynb\" target=\"_parent\"><img src=\"https://colab.research.google.com/assets/colab-badge.svg\" alt=\"Open In Colab\"/></a>"
      ]
    },
    {
      "cell_type": "code",
      "execution_count": null,
      "metadata": {
        "id": "dbNnEV8kcUGk"
      },
      "outputs": [],
      "source": [
        "# Ode solver için gerekli kütüphaneler\n",
        "import matplotlib.pyplot as plt\n",
        "import numpy as np\n",
        "from scipy.integrate import solve_ivp\n",
        "\n",
        "# Deep learning için gerekli kütüphaneler \n",
        "import tensorflow as tf\n",
        "from tensorflow.keras.models import Sequential\n",
        "from tensorflow.keras import Input, Model\n",
        "from tensorflow.keras.layers import Dense\n",
        "\n",
        "plt.style.use('seaborn-poster')\n",
        "\n",
        "%matplotlib inline\n",
        "\"\"\"\n",
        "def F(t,s):       # Diff eq F(t,s) = 0\n",
        "  return [np.cos(t), -np.sin(t)]\n",
        "\"\"\"\n",
        "#tf.random.set_seed(39)\n",
        "#np.random.seed(39)\n",
        "\n",
        "initial_state = [0., 1.]                  # t0 anındaki başlangıç değerleri\n",
        "t_starting_and_last = [0, 2*np.pi]        # Fonksiyonun tanımlı olacağı alanın başlangıç ve bitiş noktasını tanımlıyoruz.\n",
        "t_eval = np.arange(0, 2*np.pi, 0.01)      # t_starting_and_last ile belirlediğimiz aralıkta hesaplanacak t değerlerini bu şekilde girebiliriz, hiçbirşey girilmez ise default olarak kendisi parçalıyor.\n",
        "\n",
        "def F(t,y):       # Diff eq F(t,s) = 0\n",
        "  return [y[1], -y[0]]\n",
        "\n",
        "sol = solve_ivp(fun= F, t_span= t_starting_and_last, y0= initial_state, t_eval= t_eval, dense_output=True)\n",
        "\n",
        "\n",
        "plt.figure(figsize = (8, 8))\n",
        "\n",
        "plt.subplot(221)\n",
        "plt.plot(sol.t, sol.y[0])\n",
        "plt.xlabel('t')\n",
        "plt.ylabel('H[0] = sin(t)')\n",
        "\n",
        "plt.subplot(222)\n",
        "plt.plot(sol.t, sol.y[0] - np.sin(sol.t))\n",
        "plt.xlabel('t')\n",
        "plt.ylabel('H[0] - sin(t)')\n",
        "\n",
        "plt.subplot(223)\n",
        "plt.plot(sol.t, sol.y[1])\n",
        "plt.xlabel('t')\n",
        "plt.ylabel('H[1] = cos(t)')\n",
        "\n",
        "plt.subplot(224)\n",
        "plt.plot(sol.t, sol.y[1] - np.cos(sol.t))\n",
        "plt.xlabel('t')\n",
        "plt.ylabel('H[1] - cos(t)')\n",
        "\n",
        "plt.tight_layout()\n",
        "plt.show()"
      ]
    },
    {
      "cell_type": "code",
      "source": [
        "plt.figure(figsize = (4, 4))\n",
        "plt.plot(sol.y.T[:, 0], sol.y.T[:, 1])\n",
        "plt.xlabel('q')\n",
        "plt.ylabel('p')\n",
        "plt.show()"
      ],
      "metadata": {
        "id": "D2F-Qg_NcXD8"
      },
      "execution_count": null,
      "outputs": []
    },
    {
      "cell_type": "code",
      "source": [
        "y = sol.y.T # etiketlerimiz\n",
        "t = sol.t   # t değerlerimiz\n",
        "\n",
        "t = t.reshape(([t.shape[0],1]))\n",
        "shuffle = np.concatenate((y,t), axis=1)\n",
        "np.random.shuffle(shuffle)\n",
        "\n",
        "y = shuffle[:,:2]\n",
        "t = shuffle[:,2]\n",
        "print('y:',y, '\\nt:',t)"
      ],
      "metadata": {
        "id": "_QVwF8tYcXYJ"
      },
      "execution_count": null,
      "outputs": []
    },
    {
      "cell_type": "code",
      "source": [
        "# Model\n",
        "girdi = Input(shape=(1,))\n",
        "\n",
        "hidden = Dense(64, activation= tf.keras.activations.tanh)(girdi)\n",
        "hidden = Dense(64, activation= tf.keras.activations.tanh)(hidden)\n",
        "\n",
        "hidden = Dense(2)(hidden)\n",
        "\n",
        "model = Model(inputs=girdi, outputs=hidden)"
      ],
      "metadata": {
        "id": "2EBcLIlJcXaq"
      },
      "execution_count": null,
      "outputs": []
    },
    {
      "cell_type": "code",
      "source": [
        "opt = tf.keras.optimizers.Adam(learning_rate=0.001)\n",
        "\n",
        "model.compile(optimizer=opt, loss= 'mse')\n",
        "model.fit(x=t, y= y, epochs=500, batch_size=16)"
      ],
      "metadata": {
        "id": "ncJBHd1RcXdE"
      },
      "execution_count": null,
      "outputs": []
    },
    {
      "cell_type": "code",
      "source": [
        "def H(z):\n",
        "  return tf.reduce_sum((z**2)/2,axis=1)\n",
        "\n",
        "import keras.backend as K\n",
        "\n",
        "def custom_loss(y_true, y_pred):\n",
        "  #y_pred = tf.transpose(tf.concat([y_pred[None,:,1], -y_pred[None,:,0]], axis=0))\n",
        "  #(1/16) * (tf.reduce_sum(y_true*y_pred))**2\n",
        "  return (h_0 - (1/16) * H(y_pred))**2\n",
        "\n",
        "# Hamiltonian for initial values [0,1]\n",
        "h_0 = H(np.array([initial_state], dtype=np.float32))"
      ],
      "metadata": {
        "id": "T0Q5VmNAcXfC"
      },
      "execution_count": null,
      "outputs": []
    },
    {
      "cell_type": "code",
      "source": [
        "opt = tf.keras.optimizers.Adam(learning_rate=0.001)\n",
        "\n",
        "model.compile(optimizer=opt, loss= custom_loss)\n",
        "model.fit(x=t, y= y, epochs=500, batch_size=16)"
      ],
      "metadata": {
        "id": "cUVcflifcXhS"
      },
      "execution_count": null,
      "outputs": []
    },
    {
      "cell_type": "code",
      "source": [
        "t_test = np.arange(0, 2*np.pi, 0.02).reshape((315,1)) #629\n",
        "pred = model.predict(t_test)\n",
        "\n",
        "hamiltonian = H(pred)\n",
        "true_hamiltonian = H(sol.y.T)\n",
        "\n",
        "plt.figure(figsize = (8, 4))\n",
        "\n",
        "plt.subplot(121)\n",
        "plt.plot(sol.y.T[:, 0], sol.y.T[:, 1])\n",
        "plt.plot(pred[:, 0], pred[:, 1], c ='red')\n",
        "plt.xlabel('q')\n",
        "plt.ylabel('p')\n",
        "\n",
        "plt.subplot(122)\n",
        "plt.plot(t_eval, true_hamiltonian)\n",
        "plt.plot(t_test, hamiltonian, c='red')\n",
        "plt.xlabel('t')\n",
        "plt.ylabel('H')\n",
        "\n",
        "plt.tight_layout()\n",
        "plt.show()"
      ],
      "metadata": {
        "id": "O3Oi_FYucewK"
      },
      "execution_count": null,
      "outputs": []
    },
    {
      "cell_type": "code",
      "source": [
        ""
      ],
      "metadata": {
        "id": "TJm3gpurce5b"
      },
      "execution_count": null,
      "outputs": []
    }
  ]
}