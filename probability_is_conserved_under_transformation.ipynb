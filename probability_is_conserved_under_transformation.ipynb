{
  "nbformat": 4,
  "nbformat_minor": 0,
  "metadata": {
    "colab": {
      "name": "probability_is_conserved_under_transformation.ipynb",
      "private_outputs": true,
      "provenance": [],
      "collapsed_sections": [],
      "authorship_tag": "ABX9TyPjGAKYTWuc/DcHcroqA6eA",
      "include_colab_link": true
    },
    "kernelspec": {
      "name": "python3",
      "display_name": "Python 3"
    },
    "language_info": {
      "name": "python"
    },
    "accelerator": "GPU"
  },
  "cells": [
    {
      "cell_type": "markdown",
      "metadata": {
        "id": "view-in-github",
        "colab_type": "text"
      },
      "source": [
        "<a href=\"https://colab.research.google.com/github/tayfununal/Normalizing-Flows/blob/main/probability_is_conserved_under_transformation.ipynb\" target=\"_parent\"><img src=\"https://colab.research.google.com/assets/colab-badge.svg\" alt=\"Open In Colab\"/></a>"
      ]
    },
    {
      "cell_type": "markdown",
      "source": [
        "# Bir olasılık dağılımına dönüşüm uygulandığında olasılık yoğunluk fonksiyonunun alanı korunur!\n",
        "\n",
        "**Amaç :** Bu çalışmada $p_x(x) $ uniform dağılıma f(x) dönüşümü uygulanmıştır ve $ p_z(z)$ elde edilmiştir. Yapılan dönüşüm altında, $ p_x(x) $ ve $ p_z(z)$ dağılımlarının olasılık yoğunluk fonksiyonunun altında kalan alanların korunduğu gösterilmiştir. Dolayısıyla olasılık korunur.\n",
        "\n",
        "**Dönüşüm fonksiyonu:**\n",
        "\\begin{align*}\n",
        "f(x) = 2x + 1\n",
        "\\end{align*}\n",
        "\n",
        "**Uniform dağılımın olasılık yoğunluk fonksiyonu:**\n",
        "\\begin{align*}\n",
        "  f(x) =\\begin{cases}\n",
        "                        \\frac{1}{b-a} \\ \\text{ için } a\\leq x \\leq b \\\\\n",
        "                        \\ \\ 0 \\ \\ \\ \\text{ için } x<a \\text{ ve } x>b\n",
        "        \\end{cases}\n",
        "\\end{align*}"
      ],
      "metadata": {
        "id": "G_bC1Jb0kntn"
      }
    },
    {
      "cell_type": "code",
      "execution_count": null,
      "metadata": {
        "id": "cfzr0rlWGu-L"
      },
      "outputs": [],
      "source": [
        "%matplotlib inline\n",
        "import matplotlib.pyplot as plt\n",
        "import tensorflow as tf\n",
        "import tensorflow_probability as tfp\n",
        "import numpy as np\n",
        "tfd = tfp.distributions"
      ]
    },
    {
      "cell_type": "code",
      "source": [
        "x = tfd.Uniform(low=0, high=1)\n",
        "z = tfd.Uniform(low=1, high=3)"
      ],
      "metadata": {
        "id": "3OOp9o0IG5Nv"
      },
      "execution_count": null,
      "outputs": []
    },
    {
      "cell_type": "code",
      "source": [
        "x_s = x.sample(100)      # x_s : samples\n",
        "z_s = 2 * x_s + 1    # z_s : samples"
      ],
      "metadata": {
        "id": "hOm4FRWeHHmJ"
      },
      "execution_count": null,
      "outputs": []
    },
    {
      "cell_type": "code",
      "source": [
        "fig, axs = plt.subplots(1, 2, figsize=(20,6))\n",
        "\n",
        "axs[0].hist(x_s, density=True,alpha=0.5)\n",
        "axs[0].set_title('Uniform Dağılım')\n",
        "\n",
        "samples_x = np.linspace(-0.5, 1.5, 1000)\n",
        "axs[0].plot(samples_x, x.prob(samples_x), linewidth=5.0)\n",
        "\n",
        "\n",
        "\n",
        "axs[1].hist(z_s, alpha=0.5, color=\"r\" , density= True)\n",
        "axs[1].set_title('Dönüşüm Dağılımı')\n",
        "\n",
        "samples_z = np.linspace(0.5, 3.5, 1000)\n",
        "axs[1].plot(samples_z, z.prob(samples_z), linewidth=5.0)\n",
        "\n",
        "plt.show()"
      ],
      "metadata": {
        "id": "Zr2Hb9ZSHKvR"
      },
      "execution_count": null,
      "outputs": []
    },
    {
      "cell_type": "code",
      "source": [
        "dx = 0.25\n",
        "hx = x.prob(x_s[x_s<dx])\n",
        "hx"
      ],
      "metadata": {
        "id": "7whEls88T66l"
      },
      "execution_count": null,
      "outputs": []
    },
    {
      "cell_type": "code",
      "source": [
        "dz = 2 * dx + 1\n",
        "hz = z.prob(z_s[z_s<dz])\n",
        "hz"
      ],
      "metadata": {
        "id": "E2HP9OZEfvtx"
      },
      "execution_count": null,
      "outputs": []
    },
    {
      "cell_type": "code",
      "source": [
        "tf.math.reduce_sum(tf.multiply(dx,hx))"
      ],
      "metadata": {
        "id": "kFt6hHdLgJ8I"
      },
      "execution_count": null,
      "outputs": []
    },
    {
      "cell_type": "code",
      "source": [
        "dz = dz - 1   # dz den 1 çıkarıyoruz çünkü olasılık dağılımı 1 ile 3 arasındadır. Alanı bulmak için tabanı bu şekilde elde ediyoruz.\n",
        "tf.math.reduce_sum(tf.multiply(dz-1,hz))"
      ],
      "metadata": {
        "id": "pE_VGJWvhJEY"
      },
      "execution_count": null,
      "outputs": []
    }
  ]
}